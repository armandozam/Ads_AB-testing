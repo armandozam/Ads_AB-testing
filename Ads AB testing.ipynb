{
 "cells": [
  {
   "cell_type": "markdown",
   "id": "bb02c3cd",
   "metadata": {},
   "source": [
    "## 1. Import Libraries\n",
    "___________"
   ]
  },
  {
   "cell_type": "code",
   "execution_count": 22,
   "id": "dbf26e1f",
   "metadata": {},
   "outputs": [],
   "source": [
    "# Import necessary libraries\n",
    "import pandas as pd\n",
    "import numpy as np\n",
    "\n",
    "import scipy.stats as stats\n",
    "import statsmodels.api as sm\n",
    "from statsmodels.stats.proportion import proportions_ztest\n",
    "\n",
    "import seaborn as sns\n",
    "import matplotlib.pyplot as plt\n",
    "from matplotlib.lines import Line2D\n",
    "%matplotlib inline"
   ]
  },
  {
   "cell_type": "markdown",
   "id": "72ad8444",
   "metadata": {},
   "source": [
    "## 2. Data Exploration\n",
    "____"
   ]
  },
  {
   "cell_type": "markdown",
   "id": "6a964a2d",
   "metadata": {},
   "source": [
    "### Overview of the dataset"
   ]
  },
  {
   "cell_type": "code",
   "execution_count": 23,
   "id": "42962d83",
   "metadata": {},
   "outputs": [
    {
     "data": {
      "text/html": [
       "<div>\n",
       "<style scoped>\n",
       "    .dataframe tbody tr th:only-of-type {\n",
       "        vertical-align: middle;\n",
       "    }\n",
       "\n",
       "    .dataframe tbody tr th {\n",
       "        vertical-align: top;\n",
       "    }\n",
       "\n",
       "    .dataframe thead th {\n",
       "        text-align: right;\n",
       "    }\n",
       "</style>\n",
       "<table border=\"1\" class=\"dataframe\">\n",
       "  <thead>\n",
       "    <tr style=\"text-align: right;\">\n",
       "      <th></th>\n",
       "      <th>auction_id</th>\n",
       "      <th>experiment</th>\n",
       "      <th>date</th>\n",
       "      <th>hour</th>\n",
       "      <th>device_make</th>\n",
       "      <th>platform_os</th>\n",
       "      <th>browser</th>\n",
       "      <th>yes</th>\n",
       "      <th>no</th>\n",
       "    </tr>\n",
       "  </thead>\n",
       "  <tbody>\n",
       "    <tr>\n",
       "      <th>0</th>\n",
       "      <td>0008ef63-77a7-448b-bd1e-075f42c55e39</td>\n",
       "      <td>exposed</td>\n",
       "      <td>2020-07-10</td>\n",
       "      <td>8</td>\n",
       "      <td>Generic Smartphone</td>\n",
       "      <td>6</td>\n",
       "      <td>Chrome Mobile</td>\n",
       "      <td>0</td>\n",
       "      <td>0</td>\n",
       "    </tr>\n",
       "    <tr>\n",
       "      <th>1</th>\n",
       "      <td>000eabc5-17ce-4137-8efe-44734d914446</td>\n",
       "      <td>exposed</td>\n",
       "      <td>2020-07-07</td>\n",
       "      <td>10</td>\n",
       "      <td>Generic Smartphone</td>\n",
       "      <td>6</td>\n",
       "      <td>Chrome Mobile</td>\n",
       "      <td>0</td>\n",
       "      <td>0</td>\n",
       "    </tr>\n",
       "    <tr>\n",
       "      <th>2</th>\n",
       "      <td>0016d14a-ae18-4a02-a204-6ba53b52f2ed</td>\n",
       "      <td>exposed</td>\n",
       "      <td>2020-07-05</td>\n",
       "      <td>2</td>\n",
       "      <td>E5823</td>\n",
       "      <td>6</td>\n",
       "      <td>Chrome Mobile WebView</td>\n",
       "      <td>0</td>\n",
       "      <td>1</td>\n",
       "    </tr>\n",
       "    <tr>\n",
       "      <th>3</th>\n",
       "      <td>00187412-2932-4542-a8ef-3633901c98d9</td>\n",
       "      <td>control</td>\n",
       "      <td>2020-07-03</td>\n",
       "      <td>15</td>\n",
       "      <td>Samsung SM-A705FN</td>\n",
       "      <td>6</td>\n",
       "      <td>Facebook</td>\n",
       "      <td>0</td>\n",
       "      <td>0</td>\n",
       "    </tr>\n",
       "    <tr>\n",
       "      <th>4</th>\n",
       "      <td>001a7785-d3fe-4e11-a344-c8735acacc2c</td>\n",
       "      <td>control</td>\n",
       "      <td>2020-07-03</td>\n",
       "      <td>15</td>\n",
       "      <td>Generic Smartphone</td>\n",
       "      <td>6</td>\n",
       "      <td>Chrome Mobile</td>\n",
       "      <td>0</td>\n",
       "      <td>0</td>\n",
       "    </tr>\n",
       "  </tbody>\n",
       "</table>\n",
       "</div>"
      ],
      "text/plain": [
       "                             auction_id experiment        date  hour  \\\n",
       "0  0008ef63-77a7-448b-bd1e-075f42c55e39    exposed  2020-07-10     8   \n",
       "1  000eabc5-17ce-4137-8efe-44734d914446    exposed  2020-07-07    10   \n",
       "2  0016d14a-ae18-4a02-a204-6ba53b52f2ed    exposed  2020-07-05     2   \n",
       "3  00187412-2932-4542-a8ef-3633901c98d9    control  2020-07-03    15   \n",
       "4  001a7785-d3fe-4e11-a344-c8735acacc2c    control  2020-07-03    15   \n",
       "\n",
       "          device_make  platform_os                browser  yes  no  \n",
       "0  Generic Smartphone            6          Chrome Mobile    0   0  \n",
       "1  Generic Smartphone            6          Chrome Mobile    0   0  \n",
       "2               E5823            6  Chrome Mobile WebView    0   1  \n",
       "3   Samsung SM-A705FN            6               Facebook    0   0  \n",
       "4  Generic Smartphone            6          Chrome Mobile    0   0  "
      ]
     },
     "execution_count": 23,
     "metadata": {},
     "output_type": "execute_result"
    }
   ],
   "source": [
    "# import data\n",
    "\n",
    "filename = \"AdSmartABdata - AdSmartABdata.csv\"\n",
    "\n",
    "data = pd.read_csv(filename)"
   ]
  },
  {
   "cell_type": "code",
   "execution_count": 24,
   "id": "246912e2",
   "metadata": {},
   "outputs": [
    {
     "data": {
      "text/html": [
       "<div>\n",
       "<style scoped>\n",
       "    .dataframe tbody tr th:only-of-type {\n",
       "        vertical-align: middle;\n",
       "    }\n",
       "\n",
       "    .dataframe tbody tr th {\n",
       "        vertical-align: top;\n",
       "    }\n",
       "\n",
       "    .dataframe thead th {\n",
       "        text-align: right;\n",
       "    }\n",
       "</style>\n",
       "<table border=\"1\" class=\"dataframe\">\n",
       "  <thead>\n",
       "    <tr style=\"text-align: right;\">\n",
       "      <th></th>\n",
       "      <th>auction_id</th>\n",
       "      <th>experiment</th>\n",
       "      <th>date</th>\n",
       "      <th>hour</th>\n",
       "      <th>device_make</th>\n",
       "      <th>platform_os</th>\n",
       "      <th>browser</th>\n",
       "      <th>yes</th>\n",
       "      <th>no</th>\n",
       "    </tr>\n",
       "  </thead>\n",
       "  <tbody>\n",
       "    <tr>\n",
       "      <th>0</th>\n",
       "      <td>0008ef63-77a7-448b-bd1e-075f42c55e39</td>\n",
       "      <td>exposed</td>\n",
       "      <td>2020-07-10</td>\n",
       "      <td>8</td>\n",
       "      <td>Generic Smartphone</td>\n",
       "      <td>6</td>\n",
       "      <td>Chrome Mobile</td>\n",
       "      <td>0</td>\n",
       "      <td>0</td>\n",
       "    </tr>\n",
       "    <tr>\n",
       "      <th>1</th>\n",
       "      <td>000eabc5-17ce-4137-8efe-44734d914446</td>\n",
       "      <td>exposed</td>\n",
       "      <td>2020-07-07</td>\n",
       "      <td>10</td>\n",
       "      <td>Generic Smartphone</td>\n",
       "      <td>6</td>\n",
       "      <td>Chrome Mobile</td>\n",
       "      <td>0</td>\n",
       "      <td>0</td>\n",
       "    </tr>\n",
       "    <tr>\n",
       "      <th>2</th>\n",
       "      <td>0016d14a-ae18-4a02-a204-6ba53b52f2ed</td>\n",
       "      <td>exposed</td>\n",
       "      <td>2020-07-05</td>\n",
       "      <td>2</td>\n",
       "      <td>E5823</td>\n",
       "      <td>6</td>\n",
       "      <td>Chrome Mobile WebView</td>\n",
       "      <td>0</td>\n",
       "      <td>1</td>\n",
       "    </tr>\n",
       "    <tr>\n",
       "      <th>3</th>\n",
       "      <td>00187412-2932-4542-a8ef-3633901c98d9</td>\n",
       "      <td>control</td>\n",
       "      <td>2020-07-03</td>\n",
       "      <td>15</td>\n",
       "      <td>Samsung SM-A705FN</td>\n",
       "      <td>6</td>\n",
       "      <td>Facebook</td>\n",
       "      <td>0</td>\n",
       "      <td>0</td>\n",
       "    </tr>\n",
       "    <tr>\n",
       "      <th>4</th>\n",
       "      <td>001a7785-d3fe-4e11-a344-c8735acacc2c</td>\n",
       "      <td>control</td>\n",
       "      <td>2020-07-03</td>\n",
       "      <td>15</td>\n",
       "      <td>Generic Smartphone</td>\n",
       "      <td>6</td>\n",
       "      <td>Chrome Mobile</td>\n",
       "      <td>0</td>\n",
       "      <td>0</td>\n",
       "    </tr>\n",
       "  </tbody>\n",
       "</table>\n",
       "</div>"
      ],
      "text/plain": [
       "                             auction_id experiment        date  hour  \\\n",
       "0  0008ef63-77a7-448b-bd1e-075f42c55e39    exposed  2020-07-10     8   \n",
       "1  000eabc5-17ce-4137-8efe-44734d914446    exposed  2020-07-07    10   \n",
       "2  0016d14a-ae18-4a02-a204-6ba53b52f2ed    exposed  2020-07-05     2   \n",
       "3  00187412-2932-4542-a8ef-3633901c98d9    control  2020-07-03    15   \n",
       "4  001a7785-d3fe-4e11-a344-c8735acacc2c    control  2020-07-03    15   \n",
       "\n",
       "          device_make  platform_os                browser  yes  no  \n",
       "0  Generic Smartphone            6          Chrome Mobile    0   0  \n",
       "1  Generic Smartphone            6          Chrome Mobile    0   0  \n",
       "2               E5823            6  Chrome Mobile WebView    0   1  \n",
       "3   Samsung SM-A705FN            6               Facebook    0   0  \n",
       "4  Generic Smartphone            6          Chrome Mobile    0   0  "
      ]
     },
     "execution_count": 24,
     "metadata": {},
     "output_type": "execute_result"
    }
   ],
   "source": [
    "# display data\n",
    "\n",
    "data.head()"
   ]
  },
  {
   "cell_type": "markdown",
   "id": "1b4a0799",
   "metadata": {},
   "source": [
    "**Description about the variables/columns:**\n",
    "   * **auction_id :** The unique id of the online user who has been presented the BIO. In standard terminologies this is called an impression id. The user may see the BIO questionnaire but choose not to respond. In that case both the yes and no columns are zero.\n",
    "   * **experiment :** which group the user belongs to - control or exposed.\n",
    "   * **date       :** the date in YYYY-MM-DD format\n",
    "   * **hour       :** the hour of the day in HH format.\n",
    "   * **device_make:** the name of the type of device the user has e.g. Samsung\n",
    "   * **platform_os:** the id of the OS the user has.\n",
    "   * **browser    :** the name of the browser the user uses to see the BIO questionnaire.\n",
    "   * **yes        :** 1 if the user chooses the “Yes” radio button for the BIO questionnaire.\n",
    "   * **no         :** 1 if the user chooses the “No” radio button for the BIO questionnaire."
   ]
  },
  {
   "cell_type": "code",
   "execution_count": 25,
   "id": "7259bbb8",
   "metadata": {},
   "outputs": [
    {
     "name": "stdout",
     "output_type": "stream",
     "text": [
      "<class 'pandas.core.frame.DataFrame'>\n",
      "RangeIndex: 8077 entries, 0 to 8076\n",
      "Data columns (total 9 columns):\n",
      " #   Column       Non-Null Count  Dtype \n",
      "---  ------       --------------  ----- \n",
      " 0   auction_id   8077 non-null   object\n",
      " 1   experiment   8077 non-null   object\n",
      " 2   date         8077 non-null   object\n",
      " 3   hour         8077 non-null   int64 \n",
      " 4   device_make  8077 non-null   object\n",
      " 5   platform_os  8077 non-null   int64 \n",
      " 6   browser      8077 non-null   object\n",
      " 7   yes          8077 non-null   int64 \n",
      " 8   no           8077 non-null   int64 \n",
      "dtypes: int64(4), object(5)\n",
      "memory usage: 568.0+ KB\n"
     ]
    }
   ],
   "source": [
    "# data information\n",
    "\n",
    "data.info()"
   ]
  },
  {
   "cell_type": "markdown",
   "id": "d09d7124",
   "metadata": {},
   "source": [
    "**Findings:**\n",
    "   * The dataset contains 8077 rows and 9 columns\n",
    "   * 5 out of 9 variables are in object type and the other 4 are numerical"
   ]
  },
  {
   "cell_type": "code",
   "execution_count": 26,
   "id": "94759ee2",
   "metadata": {},
   "outputs": [
    {
     "data": {
      "text/plain": [
       "count    8077.000000\n",
       "mean       11.615080\n",
       "std         5.734879\n",
       "min         0.000000\n",
       "25%         7.000000\n",
       "50%        13.000000\n",
       "75%        15.000000\n",
       "max        23.000000\n",
       "Name: hour, dtype: float64"
      ]
     },
     "execution_count": 26,
     "metadata": {},
     "output_type": "execute_result"
    }
   ],
   "source": [
    "# Understanding the data distribution for the the continuous data values\n",
    "# which is the campaign duration from \"hour\" variable\n",
    "\n",
    "data.hour.describe()"
   ]
  },
  {
   "cell_type": "markdown",
   "id": "06cacbba",
   "metadata": {},
   "source": [
    "**Findings:**\n",
    "   * The average hour is 11.61 hours, i.e 11h37mn\n",
    "   * Standard deviation is 5.73 hours, i.e 5h44mn\n",
    "   * the longest duration is 23 hours"
   ]
  },
  {
   "cell_type": "code",
   "execution_count": 27,
   "id": "35242d1a",
   "metadata": {
    "scrolled": true
   },
   "outputs": [
    {
     "data": {
      "text/html": [
       "<div>\n",
       "<style scoped>\n",
       "    .dataframe tbody tr th:only-of-type {\n",
       "        vertical-align: middle;\n",
       "    }\n",
       "\n",
       "    .dataframe tbody tr th {\n",
       "        vertical-align: top;\n",
       "    }\n",
       "\n",
       "    .dataframe thead th {\n",
       "        text-align: right;\n",
       "    }\n",
       "</style>\n",
       "<table border=\"1\" class=\"dataframe\">\n",
       "  <thead>\n",
       "    <tr style=\"text-align: right;\">\n",
       "      <th></th>\n",
       "      <th>auction_id</th>\n",
       "      <th>experiment</th>\n",
       "      <th>date</th>\n",
       "      <th>device_make</th>\n",
       "      <th>browser</th>\n",
       "    </tr>\n",
       "  </thead>\n",
       "  <tbody>\n",
       "    <tr>\n",
       "      <th>count</th>\n",
       "      <td>8077</td>\n",
       "      <td>8077</td>\n",
       "      <td>8077</td>\n",
       "      <td>8077</td>\n",
       "      <td>8077</td>\n",
       "    </tr>\n",
       "    <tr>\n",
       "      <th>unique</th>\n",
       "      <td>8077</td>\n",
       "      <td>2</td>\n",
       "      <td>8</td>\n",
       "      <td>269</td>\n",
       "      <td>15</td>\n",
       "    </tr>\n",
       "    <tr>\n",
       "      <th>top</th>\n",
       "      <td>0008ef63-77a7-448b-bd1e-075f42c55e39</td>\n",
       "      <td>control</td>\n",
       "      <td>2020-07-03</td>\n",
       "      <td>Generic Smartphone</td>\n",
       "      <td>Chrome Mobile</td>\n",
       "    </tr>\n",
       "    <tr>\n",
       "      <th>freq</th>\n",
       "      <td>1</td>\n",
       "      <td>4071</td>\n",
       "      <td>2015</td>\n",
       "      <td>4743</td>\n",
       "      <td>4554</td>\n",
       "    </tr>\n",
       "  </tbody>\n",
       "</table>\n",
       "</div>"
      ],
      "text/plain": [
       "                                  auction_id experiment        date  \\\n",
       "count                                   8077       8077        8077   \n",
       "unique                                  8077          2           8   \n",
       "top     0008ef63-77a7-448b-bd1e-075f42c55e39    control  2020-07-03   \n",
       "freq                                       1       4071        2015   \n",
       "\n",
       "               device_make        browser  \n",
       "count                 8077           8077  \n",
       "unique                 269             15  \n",
       "top     Generic Smartphone  Chrome Mobile  \n",
       "freq                  4743           4554  "
      ]
     },
     "execution_count": 27,
     "metadata": {},
     "output_type": "execute_result"
    }
   ],
   "source": [
    "data.describe(include = [object])"
   ]
  },
  {
   "cell_type": "markdown",
   "id": "ab3139f0",
   "metadata": {},
   "source": [
    "**Findings:**\n",
    "   * experiment variables:\n",
    "           - There are 8077 values\n",
    "           - There exist 2 unique values\n",
    "           - \"Control\" is the most frequent value, it is repeated 4071 times\n",
    "   * device_make variables:\n",
    "           - There are 8077 values\n",
    "           - There exist 269 unique values\n",
    "           - \"Generic Smartphone\" is the most frequent value, it is repeated 4743 times\n",
    "   * browser variables:\n",
    "           - There are 8077 values\n",
    "           - There exist 15 unique values\n",
    "           - \"Chrome Mobile\" is the most frequent value, it is repeated 4554 times"
   ]
  },
  {
   "cell_type": "markdown",
   "id": "4d456a37",
   "metadata": {},
   "source": [
    "### Sanity check"
   ]
  },
  {
   "cell_type": "code",
   "execution_count": 28,
   "id": "e2fbc2e4",
   "metadata": {
    "scrolled": true
   },
   "outputs": [
    {
     "data": {
      "text/plain": [
       "auction_id     0\n",
       "experiment     0\n",
       "date           0\n",
       "hour           0\n",
       "device_make    0\n",
       "platform_os    0\n",
       "browser        0\n",
       "yes            0\n",
       "no             0\n",
       "dtype: int64"
      ]
     },
     "execution_count": 28,
     "metadata": {},
     "output_type": "execute_result"
    }
   ],
   "source": [
    "# checking missing values\n",
    "data.isnull().sum()"
   ]
  },
  {
   "cell_type": "markdown",
   "id": "d5601830",
   "metadata": {},
   "source": [
    "**Findings:**\n",
    "There are no missing values on the dataset"
   ]
  },
  {
   "cell_type": "code",
   "execution_count": 29,
   "id": "4bf18ffc",
   "metadata": {},
   "outputs": [
    {
     "data": {
      "text/plain": [
       "0"
      ]
     },
     "execution_count": 29,
     "metadata": {},
     "output_type": "execute_result"
    }
   ],
   "source": [
    "# checking duplicate data\n",
    "\n",
    "data.duplicated().sum()"
   ]
  },
  {
   "cell_type": "markdown",
   "id": "d0e313f6",
   "metadata": {},
   "source": [
    "**Findings:**\n",
    "There are no duplicate values on the dataset"
   ]
  },
  {
   "cell_type": "code",
   "execution_count": 30,
   "id": "bc2599c2",
   "metadata": {},
   "outputs": [
    {
     "data": {
      "image/png": "[encoded data removed]",
      "text/plain": [
       "<Figure size 640x480 with 1 Axes>"
      ]
     },
     "metadata": {},
     "output_type": "display_data"
    }
   ],
   "source": [
    "# Distribution Diagram\n",
    "sns.boxplot(data = data, x = 'hour',  y = 'experiment')\n",
    "plt.title(\"Boxplot of daily campaign time spends per day\")\n",
    "plt.show()"
   ]
  },
  {
   "cell_type": "markdown",
   "id": "037fd808",
   "metadata": {},
   "source": [
    "**Findings:**\n",
    "   * There are no outliers on both variants\n",
    "   * The duration of the campaign is at maximum 15 hours per day"
   ]
  },
  {
   "cell_type": "code",
   "execution_count": 31,
   "id": "4d2bf76e",
   "metadata": {},
   "outputs": [
    {
     "data": {
      "text/html": [
       "<div>\n",
       "<style scoped>\n",
       "    .dataframe tbody tr th:only-of-type {\n",
       "        vertical-align: middle;\n",
       "    }\n",
       "\n",
       "    .dataframe tbody tr th {\n",
       "        vertical-align: top;\n",
       "    }\n",
       "\n",
       "    .dataframe thead th {\n",
       "        text-align: right;\n",
       "    }\n",
       "</style>\n",
       "<table border=\"1\" class=\"dataframe\">\n",
       "  <thead>\n",
       "    <tr style=\"text-align: right;\">\n",
       "      <th></th>\n",
       "      <th>experiment</th>\n",
       "      <th>num_samples</th>\n",
       "    </tr>\n",
       "  </thead>\n",
       "  <tbody>\n",
       "    <tr>\n",
       "      <th>0</th>\n",
       "      <td>control</td>\n",
       "      <td>4071</td>\n",
       "    </tr>\n",
       "    <tr>\n",
       "      <th>1</th>\n",
       "      <td>exposed</td>\n",
       "      <td>4006</td>\n",
       "    </tr>\n",
       "  </tbody>\n",
       "</table>\n",
       "</div>"
      ],
      "text/plain": [
       "  experiment  num_samples\n",
       "0    control         4071\n",
       "1    exposed         4006"
      ]
     },
     "execution_count": 31,
     "metadata": {},
     "output_type": "execute_result"
    }
   ],
   "source": [
    "# Counting the number of sample per experiment group\n",
    "num_of_samples = data.groupby(['experiment'])['auction_id'].count().to_frame().reset_index()\n",
    "num_of_samples.rename(columns = {'auction_id':'num_samples'}, inplace = True)\n",
    "num_of_samples"
   ]
  },
  {
   "cell_type": "markdown",
   "id": "530f3c1c",
   "metadata": {},
   "source": [
    "**Findings:**\n",
    "There are 4071 for the \"control\" and 4006 for the \"exposed\" which equal to the number total of samples (8077 rows)."
   ]
  },
  {
   "cell_type": "markdown",
   "id": "2f531380",
   "metadata": {},
   "source": [
    "## 3. Sample Ratio Mismatch (SRM)\n",
    "___"
   ]
  },
  {
   "cell_type": "code",
   "execution_count": 32,
   "id": "ce9d68cc",
   "metadata": {},
   "outputs": [
    {
     "data": {
      "text/html": [
       "<div>\n",
       "<style scoped>\n",
       "    .dataframe tbody tr th:only-of-type {\n",
       "        vertical-align: middle;\n",
       "    }\n",
       "\n",
       "    .dataframe tbody tr th {\n",
       "        vertical-align: top;\n",
       "    }\n",
       "\n",
       "    .dataframe thead th {\n",
       "        text-align: right;\n",
       "    }\n",
       "</style>\n",
       "<table border=\"1\" class=\"dataframe\">\n",
       "  <thead>\n",
       "    <tr style=\"text-align: right;\">\n",
       "      <th></th>\n",
       "      <th>auction_id</th>\n",
       "      <th>experiment</th>\n",
       "      <th>date</th>\n",
       "      <th>hour</th>\n",
       "      <th>device_make</th>\n",
       "      <th>platform_os</th>\n",
       "      <th>browser</th>\n",
       "      <th>yes</th>\n",
       "      <th>no</th>\n",
       "    </tr>\n",
       "  </thead>\n",
       "  <tbody>\n",
       "    <tr>\n",
       "      <th>3</th>\n",
       "      <td>00187412-2932-4542-a8ef-3633901c98d9</td>\n",
       "      <td>control</td>\n",
       "      <td>2020-07-03</td>\n",
       "      <td>15</td>\n",
       "      <td>Samsung SM-A705FN</td>\n",
       "      <td>6</td>\n",
       "      <td>Facebook</td>\n",
       "      <td>0</td>\n",
       "      <td>0</td>\n",
       "    </tr>\n",
       "    <tr>\n",
       "      <th>4</th>\n",
       "      <td>001a7785-d3fe-4e11-a344-c8735acacc2c</td>\n",
       "      <td>control</td>\n",
       "      <td>2020-07-03</td>\n",
       "      <td>15</td>\n",
       "      <td>Generic Smartphone</td>\n",
       "      <td>6</td>\n",
       "      <td>Chrome Mobile</td>\n",
       "      <td>0</td>\n",
       "      <td>0</td>\n",
       "    </tr>\n",
       "    <tr>\n",
       "      <th>5</th>\n",
       "      <td>0027ce48-d3c6-4935-bb12-dfb5d5627857</td>\n",
       "      <td>control</td>\n",
       "      <td>2020-07-03</td>\n",
       "      <td>15</td>\n",
       "      <td>Samsung SM-G960F</td>\n",
       "      <td>6</td>\n",
       "      <td>Facebook</td>\n",
       "      <td>0</td>\n",
       "      <td>0</td>\n",
       "    </tr>\n",
       "    <tr>\n",
       "      <th>6</th>\n",
       "      <td>002e308b-1a07-49d6-8560-0fbcdcd71e4b</td>\n",
       "      <td>control</td>\n",
       "      <td>2020-07-03</td>\n",
       "      <td>15</td>\n",
       "      <td>Generic Smartphone</td>\n",
       "      <td>6</td>\n",
       "      <td>Chrome Mobile</td>\n",
       "      <td>0</td>\n",
       "      <td>0</td>\n",
       "    </tr>\n",
       "    <tr>\n",
       "      <th>7</th>\n",
       "      <td>00393fb9-ca32-40c0-bfcb-1bd83f319820</td>\n",
       "      <td>control</td>\n",
       "      <td>2020-07-09</td>\n",
       "      <td>5</td>\n",
       "      <td>Samsung SM-G973F</td>\n",
       "      <td>6</td>\n",
       "      <td>Facebook</td>\n",
       "      <td>0</td>\n",
       "      <td>0</td>\n",
       "    </tr>\n",
       "  </tbody>\n",
       "</table>\n",
       "</div>"
      ],
      "text/plain": [
       "                             auction_id experiment        date  hour  \\\n",
       "3  00187412-2932-4542-a8ef-3633901c98d9    control  2020-07-03    15   \n",
       "4  001a7785-d3fe-4e11-a344-c8735acacc2c    control  2020-07-03    15   \n",
       "5  0027ce48-d3c6-4935-bb12-dfb5d5627857    control  2020-07-03    15   \n",
       "6  002e308b-1a07-49d6-8560-0fbcdcd71e4b    control  2020-07-03    15   \n",
       "7  00393fb9-ca32-40c0-bfcb-1bd83f319820    control  2020-07-09     5   \n",
       "\n",
       "          device_make  platform_os        browser  yes  no  \n",
       "3   Samsung SM-A705FN            6       Facebook    0   0  \n",
       "4  Generic Smartphone            6  Chrome Mobile    0   0  \n",
       "5    Samsung SM-G960F            6       Facebook    0   0  \n",
       "6  Generic Smartphone            6  Chrome Mobile    0   0  \n",
       "7    Samsung SM-G973F            6       Facebook    0   0  "
      ]
     },
     "execution_count": 32,
     "metadata": {},
     "output_type": "execute_result"
    }
   ],
   "source": [
    "# Make control data\n",
    "data_control = data[data[\"experiment\"] == \"control\"]\n",
    "\n",
    "data_control.head()"
   ]
  },
  {
   "cell_type": "code",
   "execution_count": 33,
   "id": "6de9dc0d",
   "metadata": {},
   "outputs": [
    {
     "data": {
      "text/html": [
       "<div>\n",
       "<style scoped>\n",
       "    .dataframe tbody tr th:only-of-type {\n",
       "        vertical-align: middle;\n",
       "    }\n",
       "\n",
       "    .dataframe tbody tr th {\n",
       "        vertical-align: top;\n",
       "    }\n",
       "\n",
       "    .dataframe thead th {\n",
       "        text-align: right;\n",
       "    }\n",
       "</style>\n",
       "<table border=\"1\" class=\"dataframe\">\n",
       "  <thead>\n",
       "    <tr style=\"text-align: right;\">\n",
       "      <th></th>\n",
       "      <th>auction_id</th>\n",
       "      <th>experiment</th>\n",
       "      <th>date</th>\n",
       "      <th>hour</th>\n",
       "      <th>device_make</th>\n",
       "      <th>platform_os</th>\n",
       "      <th>browser</th>\n",
       "      <th>yes</th>\n",
       "      <th>no</th>\n",
       "    </tr>\n",
       "  </thead>\n",
       "  <tbody>\n",
       "    <tr>\n",
       "      <th>0</th>\n",
       "      <td>0008ef63-77a7-448b-bd1e-075f42c55e39</td>\n",
       "      <td>exposed</td>\n",
       "      <td>2020-07-10</td>\n",
       "      <td>8</td>\n",
       "      <td>Generic Smartphone</td>\n",
       "      <td>6</td>\n",
       "      <td>Chrome Mobile</td>\n",
       "      <td>0</td>\n",
       "      <td>0</td>\n",
       "    </tr>\n",
       "    <tr>\n",
       "      <th>1</th>\n",
       "      <td>000eabc5-17ce-4137-8efe-44734d914446</td>\n",
       "      <td>exposed</td>\n",
       "      <td>2020-07-07</td>\n",
       "      <td>10</td>\n",
       "      <td>Generic Smartphone</td>\n",
       "      <td>6</td>\n",
       "      <td>Chrome Mobile</td>\n",
       "      <td>0</td>\n",
       "      <td>0</td>\n",
       "    </tr>\n",
       "    <tr>\n",
       "      <th>2</th>\n",
       "      <td>0016d14a-ae18-4a02-a204-6ba53b52f2ed</td>\n",
       "      <td>exposed</td>\n",
       "      <td>2020-07-05</td>\n",
       "      <td>2</td>\n",
       "      <td>E5823</td>\n",
       "      <td>6</td>\n",
       "      <td>Chrome Mobile WebView</td>\n",
       "      <td>0</td>\n",
       "      <td>1</td>\n",
       "    </tr>\n",
       "    <tr>\n",
       "      <th>8</th>\n",
       "      <td>004940f5-c642-417a-8fd2-c8e5d989f358</td>\n",
       "      <td>exposed</td>\n",
       "      <td>2020-07-04</td>\n",
       "      <td>0</td>\n",
       "      <td>Generic Smartphone</td>\n",
       "      <td>6</td>\n",
       "      <td>Chrome Mobile WebView</td>\n",
       "      <td>0</td>\n",
       "      <td>0</td>\n",
       "    </tr>\n",
       "    <tr>\n",
       "      <th>13</th>\n",
       "      <td>006b9c6e-5f5d-4385-a811-ff20a24b30ac</td>\n",
       "      <td>exposed</td>\n",
       "      <td>2020-07-06</td>\n",
       "      <td>8</td>\n",
       "      <td>Samsung SM-G973F</td>\n",
       "      <td>6</td>\n",
       "      <td>Chrome Mobile WebView</td>\n",
       "      <td>0</td>\n",
       "      <td>0</td>\n",
       "    </tr>\n",
       "  </tbody>\n",
       "</table>\n",
       "</div>"
      ],
      "text/plain": [
       "                              auction_id experiment        date  hour  \\\n",
       "0   0008ef63-77a7-448b-bd1e-075f42c55e39    exposed  2020-07-10     8   \n",
       "1   000eabc5-17ce-4137-8efe-44734d914446    exposed  2020-07-07    10   \n",
       "2   0016d14a-ae18-4a02-a204-6ba53b52f2ed    exposed  2020-07-05     2   \n",
       "8   004940f5-c642-417a-8fd2-c8e5d989f358    exposed  2020-07-04     0   \n",
       "13  006b9c6e-5f5d-4385-a811-ff20a24b30ac    exposed  2020-07-06     8   \n",
       "\n",
       "           device_make  platform_os                browser  yes  no  \n",
       "0   Generic Smartphone            6          Chrome Mobile    0   0  \n",
       "1   Generic Smartphone            6          Chrome Mobile    0   0  \n",
       "2                E5823            6  Chrome Mobile WebView    0   1  \n",
       "8   Generic Smartphone            6  Chrome Mobile WebView    0   0  \n",
       "13    Samsung SM-G973F            6  Chrome Mobile WebView    0   0  "
      ]
     },
     "execution_count": 33,
     "metadata": {},
     "output_type": "execute_result"
    }
   ],
   "source": [
    "# Make treatment data\n",
    "data_treatment = data[data[\"experiment\"] == \"exposed\"]\n",
    "\n",
    "data_treatment.head()"
   ]
  },
  {
   "cell_type": "code",
   "execution_count": 34,
   "id": "cc2cbece",
   "metadata": {},
   "outputs": [
    {
     "data": {
      "text/plain": [
       "4071"
      ]
     },
     "execution_count": 34,
     "metadata": {},
     "output_type": "execute_result"
    }
   ],
   "source": [
    "# Number of users in the control group\n",
    "n_control = data_control.shape[0]\n",
    "\n",
    "n_control"
   ]
  },
  {
   "cell_type": "code",
   "execution_count": 35,
   "id": "baf6001a",
   "metadata": {},
   "outputs": [
    {
     "data": {
      "text/plain": [
       "4006"
      ]
     },
     "execution_count": 35,
     "metadata": {},
     "output_type": "execute_result"
    }
   ],
   "source": [
    "# Number of users in the treatment\n",
    "n_treatment = data_treatment.shape[0]\n",
    "\n",
    "n_treatment"
   ]
  },
  {
   "cell_type": "code",
   "execution_count": 36,
   "id": "2163861a",
   "metadata": {
    "scrolled": true
   },
   "outputs": [
    {
     "name": "stdout",
     "output_type": "stream",
     "text": [
      "% control   : 50.40%\n",
      "% treatment : 49.60%\n"
     ]
    }
   ],
   "source": [
    "# Percentage in each group\n",
    "n_total = data.shape[0]\n",
    "persen_control = n_control/n_total * 100\n",
    "persen_treat = n_treatment/n_total * 100\n",
    "\n",
    "print(f\"% control   : {persen_control:.2f}%\")\n",
    "print(f\"% treatment : {persen_treat:.2f}%\")"
   ]
  },
  {
   "cell_type": "markdown",
   "id": "4327f3f6",
   "metadata": {},
   "source": [
    "**Finding:** Based on the above result, the sample size in two groups are different, thus it can be a sign of SRM. Besides, we need inferential statistics to prove that --with chi-square test."
   ]
  },
  {
   "cell_type": "markdown",
   "id": "6409c846",
   "metadata": {},
   "source": [
    "### Chi-square test for detecting SRM"
   ]
  },
  {
   "cell_type": "markdown",
   "id": "4eee22ec",
   "metadata": {},
   "source": [
    "Consider the null and alternative hypothesis ($H_0$ and $H_1$)** :\n",
    "\n",
    "$H_0$  : No SRM detected\n",
    "\n",
    "$H_1$  : SRM detected"
   ]
  },
  {
   "cell_type": "code",
   "execution_count": 37,
   "id": "dae7fbd8",
   "metadata": {},
   "outputs": [],
   "source": [
    "observed = [ n_control, n_treatment ]\n",
    "total_traffic= sum(observed)\n",
    "expected = [ total_traffic/2, total_traffic/2 ]"
   ]
  },
  {
   "cell_type": "code",
   "execution_count": 38,
   "id": "b074e7d8",
   "metadata": {},
   "outputs": [
    {
     "name": "stdout",
     "output_type": "stream",
     "text": [
      "Power_divergenceResult(statistic=0.5230902562832735, pvalue=0.4695264353014863)\n"
     ]
    }
   ],
   "source": [
    "#calculate chi-square statistics\n",
    "from scipy.stats import chisquare\n",
    "chi = chisquare(observed, f_exp=expected)\n",
    "print(chi)"
   ]
  },
  {
   "cell_type": "markdown",
   "id": "0c40550b",
   "metadata": {},
   "source": [
    "### Define decision rules"
   ]
  },
  {
   "cell_type": "markdown",
   "id": "5767aed4",
   "metadata": {},
   "source": [
    "In making statistical test decisions, we can use:\n",
    "- Comparison of chi-square statistics with critical value\n",
    "     -  $\\chi^2 > \\chi^2_{\\alpha,df}$ → reject $H_0$\n",
    "\n",
    "- Comparison of p-value with alpha\n",
    "   - pvalue < $\\alpha$ → reject $H_0$"
   ]
  },
  {
   "cell_type": "code",
   "execution_count": 39,
   "id": "ccf7fd0c",
   "metadata": {},
   "outputs": [
    {
     "name": "stdout",
     "output_type": "stream",
     "text": [
      "Critical value: 6.635\n"
     ]
    }
   ],
   "source": [
    "# Comparison of chi-square statistics with critical value\n",
    "# We must calculate the critical first\n",
    "\n",
    "# critical value is the chi-square value at alpha\n",
    "alpha = 0.01\n",
    "df=(2-1)*(2-1)  \n",
    "\n",
    "import scipy\n",
    "chi_critical = scipy.stats.chi2.ppf(1 - alpha, df)\n",
    "print(f\"Critical value: {chi_critical:.3f}\")"
   ]
  },
  {
   "cell_type": "code",
   "execution_count": 40,
   "id": "4ac8a2c5",
   "metadata": {},
   "outputs": [
    {
     "name": "stdout",
     "output_type": "stream",
     "text": [
      "Fail to reject H0 : No SRM\n"
     ]
    }
   ],
   "source": [
    "#Make decisions from chi-square statistics and critical value\n",
    "if chi[0] > chi_critical:\n",
    "  print(\"Reject H0 : SRM may be present.\")\n",
    "else:\n",
    "  print(\"Fail to reject H0 : No SRM\")"
   ]
  },
  {
   "cell_type": "code",
   "execution_count": 41,
   "id": "dc1b0022",
   "metadata": {},
   "outputs": [
    {
     "name": "stdout",
     "output_type": "stream",
     "text": [
      "Fail to reject H0 : No SRM.\n"
     ]
    }
   ],
   "source": [
    "# Comparison of P-Value with alpha.\n",
    "if chi[1] < 0.01:\n",
    "    print('Reject H0 : SRM may be present.')\n",
    "else:\n",
    "    print('Fail to reject H0 : No SRM.')"
   ]
  },
  {
   "cell_type": "markdown",
   "id": "43f78560",
   "metadata": {},
   "source": [
    "**Findings:** \n",
    "* Based on the identification of SRM, even though the sample sizes of the data in the control and treatment groups are different, there exist not SRM.\n",
    "* Thus, we can pass to the Statistical Analysis of our experiment.\n"
   ]
  },
  {
   "cell_type": "markdown",
   "id": "5877baec",
   "metadata": {},
   "source": [
    "## 4. Statisics Analysis\n",
    "___"
   ]
  },
  {
   "cell_type": "markdown",
   "id": "9d025aa2",
   "metadata": {},
   "source": [
    "During this experiment, we are going to set:\n",
    "  * Confidence level ($\\alpha$) = 5%, \n",
    "  * Power ($1-\\beta$) = 80%\n",
    "  * MDE ($\\delta$) = 1%"
   ]
  },
  {
   "cell_type": "markdown",
   "id": "92d98591",
   "metadata": {},
   "source": [
    "### Sample Size needed"
   ]
  },
  {
   "cell_type": "code",
   "execution_count": 42,
   "id": "ab913e09",
   "metadata": {},
   "outputs": [
    {
     "name": "stdout",
     "output_type": "stream",
     "text": [
      "Standar Deviation of the converted Rate: 0.25652121000331496\n"
     ]
    }
   ],
   "source": [
    "# Determining the standard deviation of the population\n",
    "# from the conversion\n",
    "\n",
    "std_converted = data['yes'].std(ddof=0)\n",
    "print(f'Standar Deviation of the converted Rate: {std_converted}')"
   ]
  },
  {
   "cell_type": "code",
   "execution_count": 43,
   "id": "d60f9f5a",
   "metadata": {},
   "outputs": [
    {
     "name": "stdout",
     "output_type": "stream",
     "text": [
      "The required number of samples per group: 10529\n",
      "The number of samples needed for the entire group: 21057\n",
      "--------------------\n",
      "Number of the existing data: 8077\n"
     ]
    }
   ],
   "source": [
    "# Counting the number of samples\n",
    "\n",
    "delta = 0.01 #MDE\n",
    "n = (16*std_converted**2)/(delta)**2\n",
    "print(f'The required number of samples per group: {round(n)}')\n",
    "print(f'The number of samples needed for the entire group: {round(2*n)}')\n",
    "print(\"--------------------\")\n",
    "print(f'Number of the existing data: {data.shape[0]}')"
   ]
  },
  {
   "cell_type": "markdown",
   "id": "72259fd3",
   "metadata": {},
   "source": [
    "**Findings:** \n",
    "* Based on the calculation of the number of samples, the data is not sufficient to support this A/B test. Thus, on a real case, we need to collect more samples (21.057 > 8.077). \n",
    "* Besides, for this experiment, we are gonna just use the existing dataset."
   ]
  },
  {
   "cell_type": "markdown",
   "id": "a40091b9",
   "metadata": {},
   "source": [
    "### Looking for conversion rate"
   ]
  },
  {
   "cell_type": "code",
   "execution_count": 44,
   "id": "c4f4126f",
   "metadata": {},
   "outputs": [
    {
     "data": {
      "text/html": [
       "<div>\n",
       "<style scoped>\n",
       "    .dataframe tbody tr th:only-of-type {\n",
       "        vertical-align: middle;\n",
       "    }\n",
       "\n",
       "    .dataframe tbody tr th {\n",
       "        vertical-align: top;\n",
       "    }\n",
       "\n",
       "    .dataframe thead th {\n",
       "        text-align: right;\n",
       "    }\n",
       "</style>\n",
       "<table border=\"1\" class=\"dataframe\">\n",
       "  <thead>\n",
       "    <tr style=\"text-align: right;\">\n",
       "      <th></th>\n",
       "      <th>experiment</th>\n",
       "      <th>num_of_converted</th>\n",
       "      <th>conversion_rate</th>\n",
       "    </tr>\n",
       "  </thead>\n",
       "  <tbody>\n",
       "    <tr>\n",
       "      <th>0</th>\n",
       "      <td>control</td>\n",
       "      <td>264</td>\n",
       "      <td>0.064849</td>\n",
       "    </tr>\n",
       "    <tr>\n",
       "      <th>1</th>\n",
       "      <td>exposed</td>\n",
       "      <td>308</td>\n",
       "      <td>0.076885</td>\n",
       "    </tr>\n",
       "  </tbody>\n",
       "</table>\n",
       "</div>"
      ],
      "text/plain": [
       "  experiment  num_of_converted  conversion_rate\n",
       "0    control               264         0.064849\n",
       "1    exposed               308         0.076885"
      ]
     },
     "execution_count": 44,
     "metadata": {},
     "output_type": "execute_result"
    }
   ],
   "source": [
    "# GroupBy experiment column and the users who click \"YES\" for BIO surveys\n",
    "radio_yes = data[data['yes'] == 1]\n",
    "convert_data = radio_yes.groupby('experiment')[['auction_id']].count()\n",
    "convert_data.reset_index(inplace = True)\n",
    "convert_data.rename(columns = {'auction_id':'num_of_converted'}, inplace = True)\n",
    "convert_data['conversion_rate'] = convert_data['num_of_converted']/num_of_samples['num_samples']\n",
    "convert_data"
   ]
  },
  {
   "cell_type": "code",
   "execution_count": 45,
   "id": "b8ec2f23",
   "metadata": {
    "scrolled": true
   },
   "outputs": [
    {
     "data": {
      "image/png": "[encoded data removed]",
      "text/plain": [
       "<Figure size 640x480 with 1 Axes>"
      ]
     },
     "metadata": {},
     "output_type": "display_data"
    }
   ],
   "source": [
    "#Visualization of the conversion rate\n",
    "sns.barplot(data = convert_data, x = 'experiment', y = 'conversion_rate')\n",
    "plt.title(\"Conversion Rate based on the experiment group\")\n",
    "plt.ylabel('Conversion Rate')\n",
    "plt.show()"
   ]
  },
  {
   "cell_type": "markdown",
   "id": "b8892385",
   "metadata": {},
   "source": [
    "**Findings:** \n",
    "Visually and computationally, the Conversion Rate \"exposed\" is higher than the \"control\". However, to ensure that the decisions taken are not wrong, it is necessary to carry out statistical tests."
   ]
  },
  {
   "cell_type": "code",
   "execution_count": 46,
   "id": "551a8af9",
   "metadata": {},
   "outputs": [
    {
     "name": "stdout",
     "output_type": "stream",
     "text": [
      "relative effect = 18.6 %\n"
     ]
    }
   ],
   "source": [
    "# Calculating the Relative Effect\n",
    "cr_treatment = convert_data['conversion_rate'][1]\n",
    "cr_control = convert_data['conversion_rate'][0]\n",
    "relative_effect = (cr_treatment - cr_control)/cr_control * 100\n",
    "\n",
    "print(f\"relative effect = {relative_effect:.3} %\")"
   ]
  },
  {
   "cell_type": "markdown",
   "id": "854dd12f",
   "metadata": {},
   "source": [
    "**Findings:** So far, we may expect that our hypothesis testing later will states that the interactive ads will be better. But to make everything sure, we have to conduct statistical testing."
   ]
  },
  {
   "cell_type": "markdown",
   "id": "a8634ca3",
   "metadata": {},
   "source": [
    "### Hypothesis Testing"
   ]
  },
  {
   "cell_type": "markdown",
   "id": "fc24d56e",
   "metadata": {},
   "source": [
    "Consider $\\mu_c$ is the conversion rate of \"control\"/\"exposed\" group (Static Ads) and $\\mu_t$ is the conversion rate of \"treatment\" group (Interactive Ads), So\n",
    "  * $H_0$ : $\\mu_t \\leq \\mu_c$\n",
    "  * $H_1$ : $\\mu_t > \\mu_c$"
   ]
  },
  {
   "cell_type": "code",
   "execution_count": 47,
   "id": "0ea88d5e",
   "metadata": {},
   "outputs": [],
   "source": [
    "# count convert & total observation\n",
    "\n",
    "n_treatment_convert = convert_data['num_of_converted'][1]\n",
    "n_control_convert = convert_data['num_of_converted'][0]\n",
    "n_treatment = num_of_samples['num_samples'][1]\n",
    "n_control = num_of_samples['num_samples'][0]\n",
    "\n",
    "count_convert = [n_treatment_convert,n_control_convert]\n",
    "count_observation = [n_treatment,n_control]"
   ]
  },
  {
   "cell_type": "markdown",
   "id": "ead659f1",
   "metadata": {},
   "source": [
    "**Calculating $z_{\\text{statistics}}$ dan p-value**"
   ]
  },
  {
   "cell_type": "markdown",
   "id": "6d2dbdc3",
   "metadata": {},
   "source": [
    "In this case, we use 'larger', because we want to prove that $CR_{\\text{interactive Ads}}$ is higher than the $CR_{\\text{static Ads}}$"
   ]
  },
  {
   "cell_type": "code",
   "execution_count": 48,
   "id": "b8a75a0d",
   "metadata": {},
   "outputs": [
    {
     "name": "stdout",
     "output_type": "stream",
     "text": [
      "Z stats : 2.1083\n",
      "P-value : 0.0175\n"
     ]
    }
   ],
   "source": [
    "# Function to calculate z-stat and p-value\n",
    "\n",
    "z_stat, p_value = proportions_ztest(count = count_convert,\n",
    "                                    nobs = count_observation,\n",
    "                                    alternative = \"larger\")\n",
    "\n",
    "print(f\"Z stats : {z_stat:.4f}\")\n",
    "print(f\"P-value : {p_value:.4f}\")"
   ]
  },
  {
   "cell_type": "code",
   "execution_count": 49,
   "id": "eb0cb8e1",
   "metadata": {},
   "outputs": [
    {
     "data": {
      "text/plain": [
       "-0.012035741524044075"
      ]
     },
     "execution_count": 49,
     "metadata": {},
     "output_type": "execute_result"
    }
   ],
   "source": [
    "convert_data['conversion_rate'][0] - convert_data['conversion_rate'][1]"
   ]
  },
  {
   "cell_type": "markdown",
   "id": "7bd2e316",
   "metadata": {},
   "source": [
    "**Findings:** \n",
    "* From the result above, the result of the difference is negative; i.e. the conversion rate of static Ads is lower than the conversion rate of interactive one.\n",
    "* Bellow we are going to see the result related with alpha and z critical."
   ]
  },
  {
   "cell_type": "code",
   "execution_count": 50,
   "id": "a98eab80",
   "metadata": {},
   "outputs": [
    {
     "name": "stdout",
     "output_type": "stream",
     "text": [
      "Reject H_0\n"
     ]
    }
   ],
   "source": [
    "# From p-value\n",
    "\n",
    "alpha = 0.05        # confidence level that we have set\n",
    "\n",
    "# Making decision p_value and alpha\n",
    "if p_value < alpha:\n",
    "    print(\"Reject H_0\")\n",
    "else:\n",
    "    print(\"Failed to reject H_0\")"
   ]
  },
  {
   "cell_type": "code",
   "execution_count": 51,
   "id": "d0a7c594",
   "metadata": {},
   "outputs": [
    {
     "data": {
      "text/plain": [
       "1.6448536269514722"
      ]
     },
     "execution_count": 51,
     "metadata": {},
     "output_type": "execute_result"
    }
   ],
   "source": [
    "# Z critical is the z-value at alpha\n",
    "import scipy.stats as stats\n",
    "z_critical = stats.norm.ppf(1 - alpha)\n",
    "\n",
    "z_critical"
   ]
  },
  {
   "cell_type": "code",
   "execution_count": 52,
   "id": "ac95bb23",
   "metadata": {},
   "outputs": [
    {
     "name": "stdout",
     "output_type": "stream",
     "text": [
      "Reject H_0\n"
     ]
    }
   ],
   "source": [
    "# From z-statistics\n",
    "\n",
    "if z_stat > z_critical:\n",
    "    print(\"Reject H_0\")\n",
    "else:\n",
    "    print(\"Failed to reject H_0\")"
   ]
  },
  {
   "cell_type": "markdown",
   "id": "102d65aa",
   "metadata": {},
   "source": [
    "### Visualization of the Result"
   ]
  },
  {
   "cell_type": "code",
   "execution_count": 53,
   "id": "9b9df478",
   "metadata": {},
   "outputs": [
    {
     "data": {
      "image/png": "[encoded data removed]",
      "text/plain": [
       "<Figure size 600x400 with 1 Axes>"
      ]
     },
     "metadata": {},
     "output_type": "display_data"
    }
   ],
   "source": [
    "fig, ax = plt.subplots(nrows=1, ncols=1, figsize=(6, 4))\n",
    "\n",
    "# Sample distribution plots\n",
    "x_sample = np.arange(-4., 4., 0.001)\n",
    "y_sample = stats.norm.pdf(x_sample, 0, 1)\n",
    "ax.plot(x_sample, y_sample,\n",
    "        color = \"blue\")\n",
    "\n",
    "# Plot region of alpha (region where H-0 rejects)\n",
    "# This region is red\n",
    "x_alpha = np.arange(z_critical, 4., 0.001)\n",
    "y_alpha = stats.norm.pdf(x_alpha)\n",
    "ax.fill_between(x = x_alpha,\n",
    "                y1 = y_alpha,\n",
    "                facecolor = \"red\", \n",
    "                alpha = .35,\n",
    "                label = \"alpha region\")\n",
    "\n",
    "\n",
    "# Plot the region of the sample we got\n",
    "# This region is green\n",
    "x_test = np.arange(z_stat, 4., 0.001)\n",
    "y_test = stats.norm.pdf(x_test)\n",
    "ax.fill_between(x = x_test,\n",
    "                y1 = y_test,\n",
    "                facecolor = \"green\", \n",
    "                alpha = .35,\n",
    "                label = \"test region\")\n",
    "\n",
    "\n",
    "# Plot vertical line alpha\n",
    "ax.axvline(z_critical, \n",
    "           color = \"red\",\n",
    "           linestyle = \"--\",\n",
    "           label = \"z-critical\")\n",
    "\n",
    "# Plot vertical line test\n",
    "ax.axvline(z_stat, \n",
    "           color = \"green\",\n",
    "           linestyle = \"--\",\n",
    "           label = \"z-stat\")\n",
    "\n",
    "\n",
    "# Plot styling\n",
    "ax.set_xlabel(\"z\", fontsize=16)\n",
    "ax.set_ylabel(\"density\", fontsize=16)\n",
    "\n",
    "plt.legend(fontsize=8)\n",
    "plt.show()"
   ]
  },
  {
   "cell_type": "markdown",
   "id": "a1140f63",
   "metadata": {},
   "source": [
    "## 5. Conclusion"
   ]
  },
  {
   "cell_type": "markdown",
   "id": "04f1b8f1",
   "metadata": {},
   "source": [
    "- p-value (0.0175) > 𝛼 (0.05) → Tolak $H_{\\text{0}}$\n",
    "- z statistics (2.1083) < z-table (1.644) → Tolak $H_{\\text{0}}$\n",
    "\n",
    "\n",
    "The conversion rate of the Interactive Ads is higher than the static's conversion rate.\n",
    "\n",
    "in other words,\n",
    "\n",
    "The Interactive Ads **increases** the interaction of the consumers to fill the BIO questionnaires.\n"
   ]
  },
  {
   "cell_type": "code",
   "execution_count": null,
   "id": "162e7ec0",
   "metadata": {},
   "outputs": [],
   "source": []
  }
 ],
 "metadata": {
  "kernelspec": {
   "display_name": "Python 3 (ipykernel)",
   "language": "python",
   "name": "python3"
  },
  "language_info": {
   "codemirror_mode": {
    "name": "ipython",
    "version": 3
   },
   "file_extension": ".py",
   "mimetype": "text/x-python",
   "name": "python",
   "nbconvert_exporter": "python",
   "pygments_lexer": "ipython3",
   "version": "3.9.15"
  }
 },
 "nbformat": 4,
 "nbformat_minor": 5
}
